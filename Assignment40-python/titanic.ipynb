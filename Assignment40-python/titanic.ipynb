{
 "cells": [
  {
   "cell_type": "code",
   "execution_count": 13,
   "id": "127a7050-55b6-42eb-818f-5b789c22d121",
   "metadata": {},
   "outputs": [],
   "source": [
    "import tensorflow as tf\n",
    "import numpy as np \n",
    "import pandas as pd\n",
    "import matplotlib.pyplot as plt\n",
    "from tensorflow.keras.layers import Dense\n",
    "from sklearn.neighbors import KNeighborsClassifier\n",
    "from sklearn.metrics import accuracy_score"
   ]
  },
  {
   "cell_type": "code",
   "execution_count": 14,
   "id": "10e678ab-def0-4713-95fd-728fccc8eae4",
   "metadata": {},
   "outputs": [
    {
     "data": {
      "text/html": [
       "<div>\n",
       "<style scoped>\n",
       "    .dataframe tbody tr th:only-of-type {\n",
       "        vertical-align: middle;\n",
       "    }\n",
       "\n",
       "    .dataframe tbody tr th {\n",
       "        vertical-align: top;\n",
       "    }\n",
       "\n",
       "    .dataframe thead th {\n",
       "        text-align: right;\n",
       "    }\n",
       "</style>\n",
       "<table border=\"1\" class=\"dataframe\">\n",
       "  <thead>\n",
       "    <tr style=\"text-align: right;\">\n",
       "      <th></th>\n",
       "      <th>PassengerId</th>\n",
       "      <th>Survived</th>\n",
       "      <th>Pclass</th>\n",
       "      <th>Name</th>\n",
       "      <th>Sex</th>\n",
       "      <th>Age</th>\n",
       "      <th>SibSp</th>\n",
       "      <th>Parch</th>\n",
       "      <th>Ticket</th>\n",
       "      <th>Fare</th>\n",
       "      <th>Cabin</th>\n",
       "      <th>Embarked</th>\n",
       "    </tr>\n",
       "  </thead>\n",
       "  <tbody>\n",
       "    <tr>\n",
       "      <th>0</th>\n",
       "      <td>1</td>\n",
       "      <td>0</td>\n",
       "      <td>3</td>\n",
       "      <td>Braund, Mr. Owen Harris</td>\n",
       "      <td>male</td>\n",
       "      <td>22.0</td>\n",
       "      <td>1</td>\n",
       "      <td>0</td>\n",
       "      <td>A/5 21171</td>\n",
       "      <td>7.2500</td>\n",
       "      <td>NaN</td>\n",
       "      <td>S</td>\n",
       "    </tr>\n",
       "    <tr>\n",
       "      <th>1</th>\n",
       "      <td>2</td>\n",
       "      <td>1</td>\n",
       "      <td>1</td>\n",
       "      <td>Cumings, Mrs. John Bradley (Florence Briggs Th...</td>\n",
       "      <td>female</td>\n",
       "      <td>38.0</td>\n",
       "      <td>1</td>\n",
       "      <td>0</td>\n",
       "      <td>PC 17599</td>\n",
       "      <td>71.2833</td>\n",
       "      <td>C85</td>\n",
       "      <td>C</td>\n",
       "    </tr>\n",
       "    <tr>\n",
       "      <th>2</th>\n",
       "      <td>3</td>\n",
       "      <td>1</td>\n",
       "      <td>3</td>\n",
       "      <td>Heikkinen, Miss. Laina</td>\n",
       "      <td>female</td>\n",
       "      <td>26.0</td>\n",
       "      <td>0</td>\n",
       "      <td>0</td>\n",
       "      <td>STON/O2. 3101282</td>\n",
       "      <td>7.9250</td>\n",
       "      <td>NaN</td>\n",
       "      <td>S</td>\n",
       "    </tr>\n",
       "    <tr>\n",
       "      <th>3</th>\n",
       "      <td>4</td>\n",
       "      <td>1</td>\n",
       "      <td>1</td>\n",
       "      <td>Futrelle, Mrs. Jacques Heath (Lily May Peel)</td>\n",
       "      <td>female</td>\n",
       "      <td>35.0</td>\n",
       "      <td>1</td>\n",
       "      <td>0</td>\n",
       "      <td>113803</td>\n",
       "      <td>53.1000</td>\n",
       "      <td>C123</td>\n",
       "      <td>S</td>\n",
       "    </tr>\n",
       "    <tr>\n",
       "      <th>4</th>\n",
       "      <td>5</td>\n",
       "      <td>0</td>\n",
       "      <td>3</td>\n",
       "      <td>Allen, Mr. William Henry</td>\n",
       "      <td>male</td>\n",
       "      <td>35.0</td>\n",
       "      <td>0</td>\n",
       "      <td>0</td>\n",
       "      <td>373450</td>\n",
       "      <td>8.0500</td>\n",
       "      <td>NaN</td>\n",
       "      <td>S</td>\n",
       "    </tr>\n",
       "  </tbody>\n",
       "</table>\n",
       "</div>"
      ],
      "text/plain": [
       "   PassengerId  Survived  Pclass  \\\n",
       "0            1         0       3   \n",
       "1            2         1       1   \n",
       "2            3         1       3   \n",
       "3            4         1       1   \n",
       "4            5         0       3   \n",
       "\n",
       "                                                Name     Sex   Age  SibSp  \\\n",
       "0                            Braund, Mr. Owen Harris    male  22.0      1   \n",
       "1  Cumings, Mrs. John Bradley (Florence Briggs Th...  female  38.0      1   \n",
       "2                             Heikkinen, Miss. Laina  female  26.0      0   \n",
       "3       Futrelle, Mrs. Jacques Heath (Lily May Peel)  female  35.0      1   \n",
       "4                           Allen, Mr. William Henry    male  35.0      0   \n",
       "\n",
       "   Parch            Ticket     Fare Cabin Embarked  \n",
       "0      0         A/5 21171   7.2500   NaN        S  \n",
       "1      0          PC 17599  71.2833   C85        C  \n",
       "2      0  STON/O2. 3101282   7.9250   NaN        S  \n",
       "3      0            113803  53.1000  C123        S  \n",
       "4      0            373450   8.0500   NaN        S  "
      ]
     },
     "execution_count": 14,
     "metadata": {},
     "output_type": "execute_result"
    }
   ],
   "source": [
    "data_train = pd.read_csv('data/train.csv')\n",
    "data_train.head()"
   ]
  },
  {
   "cell_type": "markdown",
   "id": "cebceae2-c3c6-4b01-b85c-f0f6b61e3d23",
   "metadata": {},
   "source": [
    "## Preprocess"
   ]
  },
  {
   "cell_type": "code",
   "execution_count": 15,
   "id": "1865020a-b970-4850-8e7c-c0109fac7111",
   "metadata": {},
   "outputs": [
    {
     "data": {
      "text/html": [
       "<div>\n",
       "<style scoped>\n",
       "    .dataframe tbody tr th:only-of-type {\n",
       "        vertical-align: middle;\n",
       "    }\n",
       "\n",
       "    .dataframe tbody tr th {\n",
       "        vertical-align: top;\n",
       "    }\n",
       "\n",
       "    .dataframe thead th {\n",
       "        text-align: right;\n",
       "    }\n",
       "</style>\n",
       "<table border=\"1\" class=\"dataframe\">\n",
       "  <thead>\n",
       "    <tr style=\"text-align: right;\">\n",
       "      <th></th>\n",
       "      <th>PassengerId</th>\n",
       "      <th>Survived</th>\n",
       "      <th>Pclass</th>\n",
       "      <th>Name</th>\n",
       "      <th>Sex</th>\n",
       "      <th>Age</th>\n",
       "      <th>SibSp</th>\n",
       "      <th>Parch</th>\n",
       "      <th>Ticket</th>\n",
       "      <th>Fare</th>\n",
       "      <th>Cabin</th>\n",
       "      <th>Embarked</th>\n",
       "    </tr>\n",
       "  </thead>\n",
       "  <tbody>\n",
       "    <tr>\n",
       "      <th>0</th>\n",
       "      <td>1</td>\n",
       "      <td>0</td>\n",
       "      <td>3</td>\n",
       "      <td>Braund, Mr. Owen Harris</td>\n",
       "      <td>1</td>\n",
       "      <td>22.0</td>\n",
       "      <td>1</td>\n",
       "      <td>0</td>\n",
       "      <td>A/5 21171</td>\n",
       "      <td>7.2500</td>\n",
       "      <td>10</td>\n",
       "      <td>0.0</td>\n",
       "    </tr>\n",
       "    <tr>\n",
       "      <th>1</th>\n",
       "      <td>2</td>\n",
       "      <td>1</td>\n",
       "      <td>1</td>\n",
       "      <td>Cumings, Mrs. John Bradley (Florence Briggs Th...</td>\n",
       "      <td>0</td>\n",
       "      <td>38.0</td>\n",
       "      <td>1</td>\n",
       "      <td>0</td>\n",
       "      <td>PC 17599</td>\n",
       "      <td>71.2833</td>\n",
       "      <td>C85</td>\n",
       "      <td>1.0</td>\n",
       "    </tr>\n",
       "    <tr>\n",
       "      <th>2</th>\n",
       "      <td>3</td>\n",
       "      <td>1</td>\n",
       "      <td>3</td>\n",
       "      <td>Heikkinen, Miss. Laina</td>\n",
       "      <td>0</td>\n",
       "      <td>26.0</td>\n",
       "      <td>0</td>\n",
       "      <td>0</td>\n",
       "      <td>STON/O2. 3101282</td>\n",
       "      <td>7.9250</td>\n",
       "      <td>10</td>\n",
       "      <td>0.0</td>\n",
       "    </tr>\n",
       "    <tr>\n",
       "      <th>3</th>\n",
       "      <td>4</td>\n",
       "      <td>1</td>\n",
       "      <td>1</td>\n",
       "      <td>Futrelle, Mrs. Jacques Heath (Lily May Peel)</td>\n",
       "      <td>0</td>\n",
       "      <td>35.0</td>\n",
       "      <td>1</td>\n",
       "      <td>0</td>\n",
       "      <td>113803</td>\n",
       "      <td>53.1000</td>\n",
       "      <td>C123</td>\n",
       "      <td>0.0</td>\n",
       "    </tr>\n",
       "    <tr>\n",
       "      <th>4</th>\n",
       "      <td>5</td>\n",
       "      <td>0</td>\n",
       "      <td>3</td>\n",
       "      <td>Allen, Mr. William Henry</td>\n",
       "      <td>1</td>\n",
       "      <td>35.0</td>\n",
       "      <td>0</td>\n",
       "      <td>0</td>\n",
       "      <td>373450</td>\n",
       "      <td>8.0500</td>\n",
       "      <td>10</td>\n",
       "      <td>0.0</td>\n",
       "    </tr>\n",
       "  </tbody>\n",
       "</table>\n",
       "</div>"
      ],
      "text/plain": [
       "   PassengerId  Survived  Pclass  \\\n",
       "0            1         0       3   \n",
       "1            2         1       1   \n",
       "2            3         1       3   \n",
       "3            4         1       1   \n",
       "4            5         0       3   \n",
       "\n",
       "                                                Name  Sex   Age  SibSp  Parch  \\\n",
       "0                            Braund, Mr. Owen Harris    1  22.0      1      0   \n",
       "1  Cumings, Mrs. John Bradley (Florence Briggs Th...    0  38.0      1      0   \n",
       "2                             Heikkinen, Miss. Laina    0  26.0      0      0   \n",
       "3       Futrelle, Mrs. Jacques Heath (Lily May Peel)    0  35.0      1      0   \n",
       "4                           Allen, Mr. William Henry    1  35.0      0      0   \n",
       "\n",
       "             Ticket     Fare Cabin  Embarked  \n",
       "0         A/5 21171   7.2500    10       0.0  \n",
       "1          PC 17599  71.2833   C85       1.0  \n",
       "2  STON/O2. 3101282   7.9250    10       0.0  \n",
       "3            113803  53.1000  C123       0.0  \n",
       "4            373450   8.0500    10       0.0  "
      ]
     },
     "execution_count": 15,
     "metadata": {},
     "output_type": "execute_result"
    }
   ],
   "source": [
    "data_train = data_train.replace(['female','male'],[0,1])\n",
    "data_train = data_train.replace(['S','C','Q'],[0,1,2])\n",
    "data_train = data_train.fillna(10)\n",
    "data_train.head()"
   ]
  },
  {
   "cell_type": "code",
   "execution_count": 27,
   "id": "ea5b81f7-fea6-4d84-afaa-38c8e218a72c",
   "metadata": {},
   "outputs": [],
   "source": [
    "X_train = np.array(data_train[['Pclass','Sex','Age','SibSp','Parch']])\n",
    "Y_train = np.array(data_train[['Survived']])\n"
   ]
  },
  {
   "cell_type": "markdown",
   "id": "917eaff2-0594-444c-8e5b-b82c0fd74436",
   "metadata": {},
   "source": [
    "## Model"
   ]
  },
  {
   "cell_type": "code",
   "execution_count": 41,
   "id": "9dc91ff9-ee95-4c51-b8eb-ff497830ec4b",
   "metadata": {},
   "outputs": [],
   "source": [
    "model = tf.keras.models.Sequential([\n",
    "    Dense(5,activation=\"sigmoid\"),\n",
    "    Dense(18,activation=\"relu\"),\n",
    "    Dense(3,activation=\"sigmoid\"),\n",
    "    Dense(2,activation=\"softmax\")\n",
    "])"
   ]
  },
  {
   "cell_type": "code",
   "execution_count": 42,
   "id": "b9eee071-718b-4027-895f-d9de706f1f89",
   "metadata": {},
   "outputs": [],
   "source": [
    "model.compile(optimizer=tf.keras.optimizers.Adam(learning_rate=0.1),\n",
    "              loss = tf.losses.sparse_categorical_crossentropy,\n",
    "              metrics=['accuracy'])"
   ]
  },
  {
   "cell_type": "markdown",
   "id": "ed2fa43e-7de3-4a65-9d21-1306e8de8f44",
   "metadata": {},
   "source": [
    "## Train"
   ]
  },
  {
   "cell_type": "code",
   "execution_count": 43,
   "id": "8b58588a-32c9-4c57-bea3-c747fbbd1738",
   "metadata": {},
   "outputs": [
    {
     "name": "stdout",
     "output_type": "stream",
     "text": [
      "Epoch 1/150\n",
      "28/28 [==============================] - 0s 1ms/step - loss: 0.6476 - accuracy: 0.6296\n",
      "Epoch 2/150\n",
      "28/28 [==============================] - 0s 1ms/step - loss: 0.5868 - accuracy: 0.7194\n",
      "Epoch 3/150\n",
      "28/28 [==============================] - 0s 1ms/step - loss: 0.5273 - accuracy: 0.7811\n",
      "Epoch 4/150\n",
      "28/28 [==============================] - 0s 1ms/step - loss: 0.4898 - accuracy: 0.8013\n",
      "Epoch 5/150\n",
      "28/28 [==============================] - 0s 1ms/step - loss: 0.4913 - accuracy: 0.8025\n",
      "Epoch 6/150\n",
      "28/28 [==============================] - 0s 2ms/step - loss: 0.4990 - accuracy: 0.8002\n",
      "Epoch 7/150\n",
      "28/28 [==============================] - 0s 1ms/step - loss: 0.4844 - accuracy: 0.8002\n",
      "Epoch 8/150\n",
      "28/28 [==============================] - 0s 1ms/step - loss: 0.4771 - accuracy: 0.8171\n",
      "Epoch 9/150\n",
      "28/28 [==============================] - 0s 1ms/step - loss: 0.4620 - accuracy: 0.8238\n",
      "Epoch 10/150\n",
      "28/28 [==============================] - 0s 1ms/step - loss: 0.4665 - accuracy: 0.7991\n",
      "Epoch 11/150\n",
      "28/28 [==============================] - 0s 1ms/step - loss: 0.4464 - accuracy: 0.8260\n",
      "Epoch 12/150\n",
      "28/28 [==============================] - 0s 1ms/step - loss: 0.4704 - accuracy: 0.8103\n",
      "Epoch 13/150\n",
      "28/28 [==============================] - 0s 1ms/step - loss: 0.4592 - accuracy: 0.8182\n",
      "Epoch 14/150\n",
      "28/28 [==============================] - 0s 1ms/step - loss: 0.4803 - accuracy: 0.8013\n",
      "Epoch 15/150\n",
      "28/28 [==============================] - 0s 1ms/step - loss: 0.4791 - accuracy: 0.8103\n",
      "Epoch 16/150\n",
      "28/28 [==============================] - 0s 1ms/step - loss: 0.4819 - accuracy: 0.8193\n",
      "Epoch 17/150\n",
      "28/28 [==============================] - 0s 1ms/step - loss: 0.4623 - accuracy: 0.8227\n",
      "Epoch 18/150\n",
      "28/28 [==============================] - 0s 1ms/step - loss: 0.4709 - accuracy: 0.8171\n",
      "Epoch 19/150\n",
      "28/28 [==============================] - 0s 2ms/step - loss: 0.4814 - accuracy: 0.8227\n",
      "Epoch 20/150\n",
      "28/28 [==============================] - 0s 2ms/step - loss: 0.4584 - accuracy: 0.8159\n",
      "Epoch 21/150\n",
      "28/28 [==============================] - 0s 2ms/step - loss: 0.4488 - accuracy: 0.8260\n",
      "Epoch 22/150\n",
      "28/28 [==============================] - 0s 2ms/step - loss: 0.4562 - accuracy: 0.8137\n",
      "Epoch 23/150\n",
      "28/28 [==============================] - 0s 1ms/step - loss: 0.4579 - accuracy: 0.8204\n",
      "Epoch 24/150\n",
      "28/28 [==============================] - 0s 1ms/step - loss: 0.4950 - accuracy: 0.8114\n",
      "Epoch 25/150\n",
      "28/28 [==============================] - 0s 1ms/step - loss: 0.4540 - accuracy: 0.8249\n",
      "Epoch 26/150\n",
      "28/28 [==============================] - 0s 1ms/step - loss: 0.4550 - accuracy: 0.8171\n",
      "Epoch 27/150\n",
      "28/28 [==============================] - 0s 1ms/step - loss: 0.4584 - accuracy: 0.8159\n",
      "Epoch 28/150\n",
      "28/28 [==============================] - 0s 2ms/step - loss: 0.4415 - accuracy: 0.8193\n",
      "Epoch 29/150\n",
      "28/28 [==============================] - 0s 1ms/step - loss: 0.5155 - accuracy: 0.7957\n",
      "Epoch 30/150\n",
      "28/28 [==============================] - 0s 1ms/step - loss: 0.4934 - accuracy: 0.8047\n",
      "Epoch 31/150\n",
      "28/28 [==============================] - 0s 1ms/step - loss: 0.4794 - accuracy: 0.8148\n",
      "Epoch 32/150\n",
      "28/28 [==============================] - 0s 2ms/step - loss: 0.4592 - accuracy: 0.8171\n",
      "Epoch 33/150\n",
      "28/28 [==============================] - 0s 2ms/step - loss: 0.4625 - accuracy: 0.8215\n",
      "Epoch 34/150\n",
      "28/28 [==============================] - 0s 2ms/step - loss: 0.4503 - accuracy: 0.8171\n",
      "Epoch 35/150\n",
      "28/28 [==============================] - 0s 1ms/step - loss: 0.4381 - accuracy: 0.8260\n",
      "Epoch 36/150\n",
      "28/28 [==============================] - 0s 1ms/step - loss: 0.4447 - accuracy: 0.8227\n",
      "Epoch 37/150\n",
      "28/28 [==============================] - 0s 1ms/step - loss: 0.4485 - accuracy: 0.8171\n",
      "Epoch 38/150\n",
      "28/28 [==============================] - 0s 1ms/step - loss: 0.4930 - accuracy: 0.8025\n",
      "Epoch 39/150\n",
      "28/28 [==============================] - 0s 1ms/step - loss: 0.4667 - accuracy: 0.8204\n",
      "Epoch 40/150\n",
      "28/28 [==============================] - 0s 1ms/step - loss: 0.4645 - accuracy: 0.8227\n",
      "Epoch 41/150\n",
      "28/28 [==============================] - 0s 1ms/step - loss: 0.4534 - accuracy: 0.8204\n",
      "Epoch 42/150\n",
      "28/28 [==============================] - 0s 2ms/step - loss: 0.4339 - accuracy: 0.8373\n",
      "Epoch 43/150\n",
      "28/28 [==============================] - 0s 1ms/step - loss: 0.4488 - accuracy: 0.8193\n",
      "Epoch 44/150\n",
      "28/28 [==============================] - 0s 1ms/step - loss: 0.4499 - accuracy: 0.8215\n",
      "Epoch 45/150\n",
      "28/28 [==============================] - 0s 1ms/step - loss: 0.5250 - accuracy: 0.7957\n",
      "Epoch 46/150\n",
      "28/28 [==============================] - 0s 1ms/step - loss: 0.4422 - accuracy: 0.8171\n",
      "Epoch 47/150\n",
      "28/28 [==============================] - 0s 2ms/step - loss: 0.4450 - accuracy: 0.8171\n",
      "Epoch 48/150\n",
      "28/28 [==============================] - 0s 2ms/step - loss: 0.4774 - accuracy: 0.8070\n",
      "Epoch 49/150\n",
      "28/28 [==============================] - 0s 2ms/step - loss: 0.4466 - accuracy: 0.8238\n",
      "Epoch 50/150\n",
      "28/28 [==============================] - 0s 1ms/step - loss: 0.4449 - accuracy: 0.8215\n",
      "Epoch 51/150\n",
      "28/28 [==============================] - 0s 1ms/step - loss: 0.4422 - accuracy: 0.8238\n",
      "Epoch 52/150\n",
      "28/28 [==============================] - 0s 1ms/step - loss: 0.4445 - accuracy: 0.8249\n",
      "Epoch 53/150\n",
      "28/28 [==============================] - 0s 1ms/step - loss: 0.4498 - accuracy: 0.8305\n",
      "Epoch 54/150\n",
      "28/28 [==============================] - 0s 1ms/step - loss: 0.4604 - accuracy: 0.8103\n",
      "Epoch 55/150\n",
      "28/28 [==============================] - 0s 1ms/step - loss: 0.4525 - accuracy: 0.8227\n",
      "Epoch 56/150\n",
      "28/28 [==============================] - 0s 1ms/step - loss: 0.4357 - accuracy: 0.8238\n",
      "Epoch 57/150\n",
      "28/28 [==============================] - 0s 1ms/step - loss: 0.4481 - accuracy: 0.8215\n",
      "Epoch 58/150\n",
      "28/28 [==============================] - 0s 1ms/step - loss: 0.4514 - accuracy: 0.8171\n",
      "Epoch 59/150\n",
      "28/28 [==============================] - 0s 1ms/step - loss: 0.4428 - accuracy: 0.8272\n",
      "Epoch 60/150\n",
      "28/28 [==============================] - 0s 2ms/step - loss: 0.4409 - accuracy: 0.8272\n",
      "Epoch 61/150\n",
      "28/28 [==============================] - 0s 2ms/step - loss: 0.4471 - accuracy: 0.8193\n",
      "Epoch 62/150\n",
      "28/28 [==============================] - 0s 2ms/step - loss: 0.4390 - accuracy: 0.8227\n",
      "Epoch 63/150\n",
      "28/28 [==============================] - 0s 1ms/step - loss: 0.4545 - accuracy: 0.8193\n",
      "Epoch 64/150\n",
      "28/28 [==============================] - 0s 1ms/step - loss: 0.4298 - accuracy: 0.8182\n",
      "Epoch 65/150\n",
      "28/28 [==============================] - 0s 2ms/step - loss: 0.4401 - accuracy: 0.8159\n",
      "Epoch 66/150\n",
      "28/28 [==============================] - 0s 1ms/step - loss: 0.4774 - accuracy: 0.8114\n",
      "Epoch 67/150\n",
      "28/28 [==============================] - 0s 1ms/step - loss: 0.4710 - accuracy: 0.8103\n",
      "Epoch 68/150\n",
      "28/28 [==============================] - 0s 1ms/step - loss: 0.5643 - accuracy: 0.7059\n",
      "Epoch 69/150\n",
      "28/28 [==============================] - 0s 1ms/step - loss: 0.5021 - accuracy: 0.7980\n",
      "Epoch 70/150\n",
      "28/28 [==============================] - 0s 1ms/step - loss: 0.4768 - accuracy: 0.8283\n",
      "Epoch 71/150\n",
      "28/28 [==============================] - 0s 1ms/step - loss: 0.4461 - accuracy: 0.8227\n",
      "Epoch 72/150\n",
      "28/28 [==============================] - 0s 2ms/step - loss: 0.4724 - accuracy: 0.8126\n",
      "Epoch 73/150\n",
      "28/28 [==============================] - 0s 1ms/step - loss: 0.4671 - accuracy: 0.8126\n",
      "Epoch 74/150\n",
      "28/28 [==============================] - 0s 2ms/step - loss: 0.4705 - accuracy: 0.8114\n",
      "Epoch 75/150\n",
      "28/28 [==============================] - 0s 2ms/step - loss: 0.4745 - accuracy: 0.8126\n",
      "Epoch 76/150\n",
      "28/28 [==============================] - 0s 2ms/step - loss: 0.4571 - accuracy: 0.8193\n",
      "Epoch 77/150\n",
      "28/28 [==============================] - 0s 1ms/step - loss: 0.4914 - accuracy: 0.8126\n",
      "Epoch 78/150\n",
      "28/28 [==============================] - 0s 1ms/step - loss: 0.4704 - accuracy: 0.8103\n",
      "Epoch 79/150\n",
      "28/28 [==============================] - 0s 1ms/step - loss: 0.4681 - accuracy: 0.8137\n",
      "Epoch 80/150\n",
      "28/28 [==============================] - 0s 1ms/step - loss: 0.4491 - accuracy: 0.8204\n",
      "Epoch 81/150\n",
      "28/28 [==============================] - 0s 1ms/step - loss: 0.4504 - accuracy: 0.8182\n",
      "Epoch 82/150\n",
      "28/28 [==============================] - 0s 1ms/step - loss: 0.4546 - accuracy: 0.8182\n",
      "Epoch 83/150\n",
      "28/28 [==============================] - 0s 1ms/step - loss: 0.4544 - accuracy: 0.8137\n",
      "Epoch 84/150\n",
      "28/28 [==============================] - 0s 1ms/step - loss: 0.4718 - accuracy: 0.8159\n",
      "Epoch 85/150\n",
      "28/28 [==============================] - 0s 1ms/step - loss: 0.4722 - accuracy: 0.8182\n",
      "Epoch 86/150\n",
      "28/28 [==============================] - 0s 2ms/step - loss: 0.4845 - accuracy: 0.8137\n",
      "Epoch 87/150\n",
      "28/28 [==============================] - 0s 2ms/step - loss: 0.5180 - accuracy: 0.7800\n",
      "Epoch 88/150\n",
      "28/28 [==============================] - 0s 2ms/step - loss: 0.6407 - accuracy: 0.6577\n",
      "Epoch 89/150\n",
      "28/28 [==============================] - 0s 2ms/step - loss: 0.6460 - accuracy: 0.6465\n",
      "Epoch 90/150\n",
      "28/28 [==============================] - 0s 1ms/step - loss: 0.6530 - accuracy: 0.6420\n",
      "Epoch 91/150\n",
      "28/28 [==============================] - 0s 1ms/step - loss: 0.6424 - accuracy: 0.6599\n",
      "Epoch 92/150\n",
      "28/28 [==============================] - 0s 1ms/step - loss: 0.6195 - accuracy: 0.6801\n",
      "Epoch 93/150\n",
      "28/28 [==============================] - 0s 1ms/step - loss: 0.4855 - accuracy: 0.8148\n",
      "Epoch 94/150\n",
      "28/28 [==============================] - 0s 1ms/step - loss: 0.5119 - accuracy: 0.7912\n",
      "Epoch 95/150\n",
      "28/28 [==============================] - 0s 1ms/step - loss: 0.5012 - accuracy: 0.8070\n",
      "Epoch 96/150\n",
      "28/28 [==============================] - 0s 1ms/step - loss: 0.5012 - accuracy: 0.8013\n",
      "Epoch 97/150\n",
      "28/28 [==============================] - 0s 1ms/step - loss: 0.5610 - accuracy: 0.7205\n",
      "Epoch 98/150\n",
      "28/28 [==============================] - 0s 1ms/step - loss: 0.6449 - accuracy: 0.6173\n",
      "Epoch 99/150\n",
      "28/28 [==============================] - 0s 1ms/step - loss: 0.6129 - accuracy: 0.6431\n",
      "Epoch 100/150\n",
      "28/28 [==============================] - 0s 2ms/step - loss: 0.5655 - accuracy: 0.7183\n",
      "Epoch 101/150\n",
      "28/28 [==============================] - 0s 2ms/step - loss: 0.5045 - accuracy: 0.7969\n",
      "Epoch 102/150\n",
      "28/28 [==============================] - 0s 2ms/step - loss: 0.5035 - accuracy: 0.7946\n",
      "Epoch 103/150\n",
      "28/28 [==============================] - 0s 2ms/step - loss: 0.5266 - accuracy: 0.7924\n",
      "Epoch 104/150\n",
      "28/28 [==============================] - 0s 1ms/step - loss: 0.5759 - accuracy: 0.6678\n",
      "Epoch 105/150\n",
      "28/28 [==============================] - 0s 2ms/step - loss: 0.5419 - accuracy: 0.7553\n",
      "Epoch 106/150\n",
      "28/28 [==============================] - 0s 2ms/step - loss: 0.5003 - accuracy: 0.8114\n",
      "Epoch 107/150\n",
      "28/28 [==============================] - 0s 1ms/step - loss: 0.5207 - accuracy: 0.8204\n",
      "Epoch 108/150\n",
      "28/28 [==============================] - 0s 1ms/step - loss: 0.4912 - accuracy: 0.8182\n",
      "Epoch 109/150\n",
      "28/28 [==============================] - 0s 1ms/step - loss: 0.4781 - accuracy: 0.8171\n",
      "Epoch 110/150\n",
      "28/28 [==============================] - 0s 1ms/step - loss: 0.4789 - accuracy: 0.8204\n",
      "Epoch 111/150\n",
      "28/28 [==============================] - 0s 2ms/step - loss: 0.5814 - accuracy: 0.7160\n",
      "Epoch 112/150\n",
      "28/28 [==============================] - 0s 1ms/step - loss: 0.5099 - accuracy: 0.8013\n",
      "Epoch 113/150\n",
      "28/28 [==============================] - 0s 2ms/step - loss: 0.4921 - accuracy: 0.8081\n",
      "Epoch 114/150\n",
      "28/28 [==============================] - 0s 2ms/step - loss: 0.5003 - accuracy: 0.7969\n",
      "Epoch 115/150\n",
      "28/28 [==============================] - 0s 2ms/step - loss: 0.5084 - accuracy: 0.7957\n",
      "Epoch 116/150\n",
      "28/28 [==============================] - 0s 1ms/step - loss: 0.4816 - accuracy: 0.8171\n",
      "Epoch 117/150\n",
      "28/28 [==============================] - 0s 1ms/step - loss: 0.4804 - accuracy: 0.8159\n",
      "Epoch 118/150\n",
      "28/28 [==============================] - 0s 1ms/step - loss: 0.4852 - accuracy: 0.8182\n",
      "Epoch 119/150\n",
      "28/28 [==============================] - 0s 1ms/step - loss: 0.4896 - accuracy: 0.8193\n",
      "Epoch 120/150\n",
      "28/28 [==============================] - 0s 2ms/step - loss: 0.4928 - accuracy: 0.8171\n",
      "Epoch 121/150\n",
      "28/28 [==============================] - 0s 1ms/step - loss: 0.4812 - accuracy: 0.8193\n",
      "Epoch 122/150\n",
      "28/28 [==============================] - 0s 1ms/step - loss: 0.4829 - accuracy: 0.8148\n",
      "Epoch 123/150\n",
      "28/28 [==============================] - 0s 1ms/step - loss: 0.4828 - accuracy: 0.8182\n",
      "Epoch 124/150\n",
      "28/28 [==============================] - 0s 1ms/step - loss: 0.4755 - accuracy: 0.8171\n",
      "Epoch 125/150\n",
      "28/28 [==============================] - 0s 2ms/step - loss: 0.4919 - accuracy: 0.8137\n",
      "Epoch 126/150\n",
      "28/28 [==============================] - 0s 2ms/step - loss: 0.4976 - accuracy: 0.8148\n",
      "Epoch 127/150\n",
      "28/28 [==============================] - 0s 2ms/step - loss: 0.4740 - accuracy: 0.8204\n",
      "Epoch 128/150\n",
      "28/28 [==============================] - 0s 2ms/step - loss: 0.4673 - accuracy: 0.8227\n",
      "Epoch 129/150\n",
      "28/28 [==============================] - 0s 2ms/step - loss: 0.5094 - accuracy: 0.7912\n",
      "Epoch 130/150\n",
      "28/28 [==============================] - 0s 2ms/step - loss: 0.4913 - accuracy: 0.8047\n",
      "Epoch 131/150\n",
      "28/28 [==============================] - 0s 2ms/step - loss: 0.5777 - accuracy: 0.7149\n",
      "Epoch 132/150\n",
      "28/28 [==============================] - 0s 2ms/step - loss: 0.5164 - accuracy: 0.7699\n",
      "Epoch 133/150\n",
      "28/28 [==============================] - 0s 1ms/step - loss: 0.4932 - accuracy: 0.8193\n",
      "Epoch 134/150\n",
      "28/28 [==============================] - 0s 2ms/step - loss: 0.4634 - accuracy: 0.8272\n",
      "Epoch 135/150\n",
      "28/28 [==============================] - 0s 1ms/step - loss: 0.4680 - accuracy: 0.8272\n",
      "Epoch 136/150\n",
      "28/28 [==============================] - 0s 1ms/step - loss: 0.4840 - accuracy: 0.8171\n",
      "Epoch 137/150\n",
      "28/28 [==============================] - 0s 1ms/step - loss: 0.5930 - accuracy: 0.7306\n",
      "Epoch 138/150\n",
      "28/28 [==============================] - 0s 1ms/step - loss: 0.4998 - accuracy: 0.8092\n",
      "Epoch 139/150\n",
      "28/28 [==============================] - 0s 2ms/step - loss: 0.4867 - accuracy: 0.8114\n",
      "Epoch 140/150\n",
      "28/28 [==============================] - 0s 2ms/step - loss: 0.4930 - accuracy: 0.8058\n",
      "Epoch 141/150\n",
      "28/28 [==============================] - 0s 1ms/step - loss: 0.5003 - accuracy: 0.8002\n",
      "Epoch 142/150\n",
      "28/28 [==============================] - 0s 2ms/step - loss: 0.4932 - accuracy: 0.8036\n",
      "Epoch 143/150\n",
      "28/28 [==============================] - 0s 1ms/step - loss: 0.5020 - accuracy: 0.8002\n",
      "Epoch 144/150\n",
      "28/28 [==============================] - 0s 1ms/step - loss: 0.4905 - accuracy: 0.8058\n",
      "Epoch 145/150\n",
      "28/28 [==============================] - 0s 2ms/step - loss: 0.4941 - accuracy: 0.8058\n",
      "Epoch 146/150\n",
      "28/28 [==============================] - 0s 1ms/step - loss: 0.4905 - accuracy: 0.8058\n",
      "Epoch 147/150\n",
      "28/28 [==============================] - 0s 1ms/step - loss: 0.4918 - accuracy: 0.8058\n",
      "Epoch 148/150\n",
      "28/28 [==============================] - 0s 2ms/step - loss: 0.4913 - accuracy: 0.8036\n",
      "Epoch 149/150\n",
      "28/28 [==============================] - 0s 1ms/step - loss: 0.4932 - accuracy: 0.8070\n",
      "Epoch 150/150\n",
      "28/28 [==============================] - 0s 1ms/step - loss: 0.4975 - accuracy: 0.8025\n"
     ]
    }
   ],
   "source": [
    "train_output = model.fit(X_train,Y_train,epochs=150)"
   ]
  },
  {
   "cell_type": "code",
   "execution_count": 44,
   "id": "efcb4762-71a9-481a-bb95-4fcbfb6aa2b8",
   "metadata": {},
   "outputs": [
    {
     "data": {
      "image/png": "[encoded data removed]",
      "text/plain": [
       "<Figure size 432x288 with 1 Axes>"
      ]
     },
     "metadata": {
      "needs_background": "light"
     },
     "output_type": "display_data"
    },
    {
     "data": {
      "image/png": "[encoded data removed]",
      "text/plain": [
       "<Figure size 432x288 with 1 Axes>"
      ]
     },
     "metadata": {
      "needs_background": "light"
     },
     "output_type": "display_data"
    }
   ],
   "source": [
    "plt.plot(train_output.history['loss'])\n",
    "plt.show()\n",
    "plt.plot(train_output.history['accuracy'])\n",
    "plt.show()"
   ]
  },
  {
   "cell_type": "markdown",
   "id": "81b1fafd-48e7-45b5-b5c0-24eca93a0c31",
   "metadata": {},
   "source": [
    "## Test"
   ]
  },
  {
   "cell_type": "code",
   "execution_count": 45,
   "id": "126ec4cb-800f-49e8-b9c7-5e89cd8714f6",
   "metadata": {},
   "outputs": [
    {
     "name": "stdout",
     "output_type": "stream",
     "text": [
      "14/14 [==============================] - 0s 1ms/step - loss: 0.2594 - accuracy: 0.9713\n"
     ]
    },
    {
     "data": {
      "text/plain": [
       "[0.25939077138900757, 0.9712918400764465]"
      ]
     },
     "execution_count": 45,
     "metadata": {},
     "output_type": "execute_result"
    }
   ],
   "source": [
    "data_test_X = pd.read_csv('data/test.csv')\n",
    "data_test_Y = pd.read_csv('data/gender_submission.csv')\n",
    "\n",
    "data_test_X = data_test_X.replace(['female','male'],[0,1])\n",
    "data_test_X = data_test_X.replace(['S','C','Q'],[0,1,2])\n",
    "data_test_X = data_test_X.fillna(10)\n",
    "\n",
    "X_test = np.array(data_test_X[['Pclass','Sex','Age','SibSp','Parch']])\n",
    "Y_test = np.array(data_test_Y[['Survived']])\n",
    "\n",
    "evaluate_test = model.evaluate(X_test,Y_test)\n",
    "evaluate_test"
   ]
  },
  {
   "cell_type": "code",
   "execution_count": 46,
   "id": "d48f3b2f-3b40-4464-9e53-a6fd27a69f7c",
   "metadata": {},
   "outputs": [],
   "source": [
    "Y_pred = model.predict(X_test)\n",
    "\n",
    "Y_pred\n",
    "Y_Pred = []\n",
    "for i in range(Y_pred.shape[0]):\n",
    "    y_pred = np.argmax(Y_pred[i])\n",
    "    Y_Pred.append(y_pred)\n"
   ]
  },
  {
   "cell_type": "code",
   "execution_count": 47,
   "id": "846ea0e2-ad49-4c36-b537-6ac62bf30c95",
   "metadata": {},
   "outputs": [
    {
     "data": {
      "text/plain": [
       "0.9712918660287081"
      ]
     },
     "execution_count": 47,
     "metadata": {},
     "output_type": "execute_result"
    }
   ],
   "source": [
    "acc_mlp = accuracy_score(Y_test,Y_Pred)\n",
    "acc_mlp"
   ]
  },
  {
   "cell_type": "code",
   "execution_count": 54,
   "id": "0ca2c181-a04d-40b0-a78a-7fdcf30248d1",
   "metadata": {},
   "outputs": [],
   "source": [
    "model.save('model/titanic.h5')"
   ]
  },
  {
   "cell_type": "code",
   "execution_count": 56,
   "id": "aec828b2-97eb-4b11-b7f8-20e33bea508a",
   "metadata": {},
   "outputs": [],
   "source": [
    "model = tf.keras.models.load_model('model/titanic.h5')"
   ]
  },
  {
   "cell_type": "markdown",
   "id": "a01aa02b-5ac7-430a-8125-5e94e768bba9",
   "metadata": {},
   "source": [
    "## KNN"
   ]
  },
  {
   "cell_type": "code",
   "execution_count": 48,
   "id": "2cec8687-3a74-4a1d-9460-2348d35d1d4b",
   "metadata": {},
   "outputs": [
    {
     "name": "stderr",
     "output_type": "stream",
     "text": [
      "c:\\users\\frsco\\appdata\\local\\programs\\python\\python37\\lib\\site-packages\\sklearn\\neighbors\\_classification.py:198: DataConversionWarning: A column-vector y was passed when a 1d array was expected. Please change the shape of y to (n_samples,), for example using ravel().\n",
      "  return self._fit(X, y)\n"
     ]
    },
    {
     "data": {
      "text/plain": [
       "KNeighborsClassifier()"
      ]
     },
     "execution_count": 48,
     "metadata": {},
     "output_type": "execute_result"
    }
   ],
   "source": [
    "neighbor = KNeighborsClassifier(5)\n",
    "neighbor\n",
    "\n",
    "neighbor.fit(X_train,Y_train)"
   ]
  },
  {
   "cell_type": "code",
   "execution_count": 49,
   "id": "8e6d4f59-9aea-4916-8141-c2bf6aab6471",
   "metadata": {},
   "outputs": [],
   "source": [
    "y_pred = neighbor.predict(X_test)"
   ]
  },
  {
   "cell_type": "code",
   "execution_count": 50,
   "id": "8dc8b17f-8615-4dda-be06-3088f9f6cb95",
   "metadata": {},
   "outputs": [
    {
     "data": {
      "text/plain": [
       "0.7655502392344498"
      ]
     },
     "execution_count": 50,
     "metadata": {},
     "output_type": "execute_result"
    }
   ],
   "source": [
    "acc_knn = accuracy_score(Y_test,y_pred)\n",
    "acc_knn"
   ]
  },
  {
   "cell_type": "markdown",
   "id": "76ca9bce-d0d1-447b-a3cd-a73b0060f4f1",
   "metadata": {},
   "source": [
    "## Perceptron"
   ]
  },
  {
   "cell_type": "code",
   "execution_count": 51,
   "id": "42923e6e-b266-4c9b-8ea2-325cebec4c7d",
   "metadata": {},
   "outputs": [],
   "source": [
    "class Perceptron:\n",
    "    def __init__(self,lr_w=0.001,lr_b=0.01,epochs=1):\n",
    "        self.lr_w = lr_w\n",
    "        self.lr_b = lr_b\n",
    "        self.epoch = epochs\n",
    "        self.w = np.random.rand(X_train.shape[1],1)\n",
    "        self.b = np.random.rand(1,1)\n",
    "        \n",
    "    def fit(self,X_train,Y_train):\n",
    "        Errors = []\n",
    "        for epoch in range(self.epoch):\n",
    "            for i in range(X_train.shape[0]):\n",
    "                y_pred = np.matmul(X_train[i],self.w) + self.b\n",
    "                e = Y_train[i] - y_pred  #khata yek dade\n",
    "                self.w += (e * self.lr_w * X_train[i,:].T).T\n",
    "                self.b = self.b + e * self.lr_b\n",
    "                \n",
    "    def predict(self,X):\n",
    "        Y_pred = np.matmul(X,self.w) + self.b\n",
    "        Y_pred = np.where(Y_pred < 1, 0, 1)\n",
    "        return Y_pred"
   ]
  },
  {
   "cell_type": "code",
   "execution_count": 52,
   "id": "06f06cd3-c51b-49ca-a613-e1946079c976",
   "metadata": {},
   "outputs": [
    {
     "data": {
      "text/plain": [
       "0.5598086124401914"
      ]
     },
     "execution_count": 52,
     "metadata": {},
     "output_type": "execute_result"
    }
   ],
   "source": [
    "perceptron = Perceptron(lr_w=0.0001,lr_b=0.01,epochs=1)\n",
    "perceptron.fit(X_train,Y_train)\n",
    "y_pred = perceptron.predict(X_test)\n",
    "acc_perceptron = accuracy_score(Y_test,y_pred)\n",
    "acc_perceptron"
   ]
  },
  {
   "cell_type": "code",
   "execution_count": null,
   "id": "9e370518-cde0-4246-b719-55efd78103c2",
   "metadata": {},
   "outputs": [],
   "source": []
  }
 ],
 "metadata": {
  "kernelspec": {
   "display_name": "Python 3 (ipykernel)",
   "language": "python",
   "name": "python3"
  },
  "language_info": {
   "codemirror_mode": {
    "name": "ipython",
    "version": 3
   },
   "file_extension": ".py",
   "mimetype": "text/x-python",
   "name": "python",
   "nbconvert_exporter": "python",
   "pygments_lexer": "ipython3",
   "version": "3.7.9"
  }
 },
 "nbformat": 4,
 "nbformat_minor": 5
}
